{
 "cells": [
  {
   "cell_type": "markdown",
   "id": "d56d7546-3664-4ea0-85ca-59add93161f4",
   "metadata": {},
   "source": [
    "## Lesson 4: Applications of Embeddings"
   ]
  },
  {
   "cell_type": "markdown",
   "id": "7cdc073e-d1ac-49af-97b0-b73fb840d38c",
   "metadata": {},
   "source": [
    "#### Project environment setup\n",
    "\n",
    "- Load credentials and relevant Python Libraries"
   ]
  },
  {
   "cell_type": "code",
   "execution_count": 1,
   "id": "30dd137e-8522-4e6c-b981-6c5863bc159e",
   "metadata": {
    "height": 47
   },
   "outputs": [],
   "source": [
    "from utils import authenticate\n",
    "credentials, PROJECT_ID = authenticate()"
   ]
  },
  {
   "cell_type": "code",
   "execution_count": 2,
   "id": "6ce0ce04-d90d-4016-a636-5fc4c5578818",
   "metadata": {
    "height": 30
   },
   "outputs": [],
   "source": [
    "REGION = 'us-central1'"
   ]
  },
  {
   "cell_type": "code",
   "execution_count": 3,
   "id": "a2a787d9-b471-41dc-89e2-e2e35d2e3a4c",
   "metadata": {
    "height": 81
   },
   "outputs": [],
   "source": [
    "import vertexai\n",
    "vertexai.init(project=PROJECT_ID, \n",
    "              location=REGION, \n",
    "              credentials = credentials)"
   ]
  },
  {
   "cell_type": "markdown",
   "id": "a84c7df8-5404-4697-804c-3e91a500a125",
   "metadata": {},
   "source": [
    "#### Load Stack Overflow questions and answers from BigQuery\n",
    "- BigQuery is Google Cloud's serverless data warehouse.\n",
    "- We'll get the first 500 posts (questions and answers) for each programming language: Python, HTML, R, and CSS."
   ]
  },
  {
   "cell_type": "code",
   "execution_count": 4,
   "id": "737db5e4-a5c4-480c-ab43-ae8e7db75c64",
   "metadata": {
    "height": 47
   },
   "outputs": [],
   "source": [
    "from google.cloud import bigquery\n",
    "import pandas as pd"
   ]
  },
  {
   "cell_type": "code",
   "execution_count": 5,
   "id": "0031e73e-517e-4a3f-b738-f75de03ec6b3",
   "metadata": {
    "height": 387
   },
   "outputs": [],
   "source": [
    "def run_bq_query(sql):\n",
    "\n",
    "    # Create BQ client\n",
    "    bq_client = bigquery.Client(project = PROJECT_ID, \n",
    "                                credentials = credentials)\n",
    "\n",
    "    # Try dry run before executing query to catch any errors\n",
    "    job_config = bigquery.QueryJobConfig(dry_run=True, \n",
    "                                         use_query_cache=False)\n",
    "    bq_client.query(sql, job_config=job_config)\n",
    "\n",
    "    # If dry run succeeds without errors, proceed to run query\n",
    "    job_config = bigquery.QueryJobConfig()\n",
    "    client_result = bq_client.query(sql, \n",
    "                                    job_config=job_config)\n",
    "\n",
    "    job_id = client_result.job_id\n",
    "\n",
    "    # Wait for query/job to finish running. then get & return data frame\n",
    "    df = client_result.result().to_arrow().to_pandas()\n",
    "    print(f\"Finished job_id: {job_id}\")\n",
    "    return df"
   ]
  },
  {
   "cell_type": "code",
   "execution_count": 6,
   "id": "c1adceeb-c109-43b2-bda9-489e1ab69413",
   "metadata": {
    "height": 64
   },
   "outputs": [],
   "source": [
    "# define list of programming language tags we want to query\n",
    "\n",
    "language_list = [\"python\", \"html\", \"r\", \"css\"]"
   ]
  },
  {
   "cell_type": "code",
   "execution_count": 7,
   "id": "c9e0cba0-daaf-4475-99d9-bb4a6ae72874",
   "metadata": {
    "height": 506
   },
   "outputs": [
    {
     "name": "stdout",
     "output_type": "stream",
     "text": [
      "generating python dataframe\n",
      "Finished job_id: 4c5fca1e-42d4-466b-b5cc-23ed9a7a41f6\n",
      "generating html dataframe\n",
      "Finished job_id: b2221d24-85e7-455d-92f9-2410046e6272\n",
      "generating r dataframe\n",
      "Finished job_id: 8dc9edbd-f24d-48d5-8495-102e03c8d4be\n",
      "generating css dataframe\n",
      "Finished job_id: 0a9ea29e-77de-4ed0-b1da-85836329ebd3\n"
     ]
    }
   ],
   "source": [
    "so_df = pd.DataFrame()\n",
    "\n",
    "for language in language_list:\n",
    "    \n",
    "    print(f\"generating {language} dataframe\")\n",
    "    \n",
    "    query = f\"\"\"\n",
    "    SELECT\n",
    "        CONCAT(q.title, q.body) as input_text,\n",
    "        a.body AS output_text\n",
    "    FROM\n",
    "        `bigquery-public-data.stackoverflow.posts_questions` q\n",
    "    JOIN\n",
    "        `bigquery-public-data.stackoverflow.posts_answers` a\n",
    "    ON\n",
    "        q.accepted_answer_id = a.id\n",
    "    WHERE \n",
    "        q.accepted_answer_id IS NOT NULL AND \n",
    "        REGEXP_CONTAINS(q.tags, \"{language}\") AND\n",
    "        a.creation_date >= \"2020-01-01\"\n",
    "    LIMIT \n",
    "        500\n",
    "    \"\"\"\n",
    "\n",
    "    \n",
    "    language_df = run_bq_query(query)\n",
    "    language_df[\"category\"] = language\n",
    "    so_df = pd.concat([so_df, language_df], \n",
    "                      ignore_index = True) "
   ]
  },
  {
   "cell_type": "markdown",
   "id": "bc1eeb1a-c3da-42bd-986c-2d8beb31eef4",
   "metadata": {},
   "source": [
    "- You can reuse the above code to run your own queries if you are using Google Cloud's BigQuery service.\n",
    "- In this classroom, if you run into any issues, you can load the same data from a csv file."
   ]
  },
  {
   "cell_type": "code",
   "execution_count": 8,
   "id": "e9b70a17-7441-427b-94e3-8c902c01a057",
   "metadata": {
    "height": 64
   },
   "outputs": [],
   "source": [
    "# Run this cell if you get any errors or you don't want to wait for the query to be completed\n",
    "# so_df = pd.read_csv('so_database_app.csv')"
   ]
  },
  {
   "cell_type": "code",
   "execution_count": 9,
   "id": "8f912a8d-a391-4fda-a7b4-eee4c0d8490d",
   "metadata": {
    "height": 30
   },
   "outputs": [
    {
     "data": {
      "text/html": [
       "<div>\n",
       "<style scoped>\n",
       "    .dataframe tbody tr th:only-of-type {\n",
       "        vertical-align: middle;\n",
       "    }\n",
       "\n",
       "    .dataframe tbody tr th {\n",
       "        vertical-align: top;\n",
       "    }\n",
       "\n",
       "    .dataframe thead th {\n",
       "        text-align: right;\n",
       "    }\n",
       "</style>\n",
       "<table border=\"1\" class=\"dataframe\">\n",
       "  <thead>\n",
       "    <tr style=\"text-align: right;\">\n",
       "      <th></th>\n",
       "      <th>input_text</th>\n",
       "      <th>output_text</th>\n",
       "      <th>category</th>\n",
       "    </tr>\n",
       "  </thead>\n",
       "  <tbody>\n",
       "    <tr>\n",
       "      <th>0</th>\n",
       "      <td>Django incremental User Number if matching pre...</td>\n",
       "      <td>&lt;p&gt;I figured it out by using a model lookup wi...</td>\n",
       "      <td>python</td>\n",
       "    </tr>\n",
       "    <tr>\n",
       "      <th>1</th>\n",
       "      <td>Replace values in array using mask of differen...</td>\n",
       "      <td>&lt;p&gt;Try this:&lt;/p&gt;\\n&lt;pre&gt;&lt;code&gt;to[np.newaxis, ma...</td>\n",
       "      <td>python</td>\n",
       "    </tr>\n",
       "    <tr>\n",
       "      <th>2</th>\n",
       "      <td>save outlier removed data back to new csv file...</td>\n",
       "      <td>&lt;p&gt;You want to filter &lt;code&gt;df&lt;/code&gt; using yo...</td>\n",
       "      <td>python</td>\n",
       "    </tr>\n",
       "    <tr>\n",
       "      <th>3</th>\n",
       "      <td>Matplotlib subplot not plotting&lt;p&gt;I have the f...</td>\n",
       "      <td>&lt;p&gt;one little detail is missing. before callin...</td>\n",
       "      <td>python</td>\n",
       "    </tr>\n",
       "    <tr>\n",
       "      <th>4</th>\n",
       "      <td>How to access index value(s), preferably by na...</td>\n",
       "      <td>&lt;p&gt;use &lt;code&gt;.index.get_level_values()&lt;/code&gt;&lt;...</td>\n",
       "      <td>python</td>\n",
       "    </tr>\n",
       "    <tr>\n",
       "      <th>...</th>\n",
       "      <td>...</td>\n",
       "      <td>...</td>\n",
       "      <td>...</td>\n",
       "    </tr>\n",
       "    <tr>\n",
       "      <th>1995</th>\n",
       "      <td>How to rotate an element inside a div, and the...</td>\n",
       "      <td>&lt;p&gt;The problem with doing just a transform is ...</td>\n",
       "      <td>css</td>\n",
       "    </tr>\n",
       "    <tr>\n",
       "      <th>1996</th>\n",
       "      <td>Change image default white background&lt;p&gt;I have...</td>\n",
       "      <td>&lt;p&gt;If the white background is part of the imag...</td>\n",
       "      <td>css</td>\n",
       "    </tr>\n",
       "    <tr>\n",
       "      <th>1997</th>\n",
       "      <td>Set height of a div dynamically&lt;p&gt;I try to adj...</td>\n",
       "      <td>&lt;p&gt;&lt;div class=\"snippet\" data-lang=\"js\" data-hi...</td>\n",
       "      <td>css</td>\n",
       "    </tr>\n",
       "    <tr>\n",
       "      <th>1998</th>\n",
       "      <td>How can I set all my li in the middle so they ...</td>\n",
       "      <td>&lt;p&gt;As the data appears to be tabular, this sni...</td>\n",
       "      <td>css</td>\n",
       "    </tr>\n",
       "    <tr>\n",
       "      <th>1999</th>\n",
       "      <td>about at media Rule.... (show on mobile phone)...</td>\n",
       "      <td>&lt;p&gt;Edits after your comment update:&lt;/p&gt;\\n\\n&lt;p&gt;...</td>\n",
       "      <td>css</td>\n",
       "    </tr>\n",
       "  </tbody>\n",
       "</table>\n",
       "<p>2000 rows × 3 columns</p>\n",
       "</div>"
      ],
      "text/plain": [
       "                                             input_text  \\\n",
       "0     Django incremental User Number if matching pre...   \n",
       "1     Replace values in array using mask of differen...   \n",
       "2     save outlier removed data back to new csv file...   \n",
       "3     Matplotlib subplot not plotting<p>I have the f...   \n",
       "4     How to access index value(s), preferably by na...   \n",
       "...                                                 ...   \n",
       "1995  How to rotate an element inside a div, and the...   \n",
       "1996  Change image default white background<p>I have...   \n",
       "1997  Set height of a div dynamically<p>I try to adj...   \n",
       "1998  How can I set all my li in the middle so they ...   \n",
       "1999  about at media Rule.... (show on mobile phone)...   \n",
       "\n",
       "                                            output_text category  \n",
       "0     <p>I figured it out by using a model lookup wi...   python  \n",
       "1     <p>Try this:</p>\\n<pre><code>to[np.newaxis, ma...   python  \n",
       "2     <p>You want to filter <code>df</code> using yo...   python  \n",
       "3     <p>one little detail is missing. before callin...   python  \n",
       "4     <p>use <code>.index.get_level_values()</code><...   python  \n",
       "...                                                 ...      ...  \n",
       "1995  <p>The problem with doing just a transform is ...      css  \n",
       "1996  <p>If the white background is part of the imag...      css  \n",
       "1997  <p><div class=\"snippet\" data-lang=\"js\" data-hi...      css  \n",
       "1998  <p>As the data appears to be tabular, this sni...      css  \n",
       "1999  <p>Edits after your comment update:</p>\\n\\n<p>...      css  \n",
       "\n",
       "[2000 rows x 3 columns]"
      ]
     },
     "execution_count": 9,
     "metadata": {},
     "output_type": "execute_result"
    }
   ],
   "source": [
    "so_df"
   ]
  },
  {
   "cell_type": "markdown",
   "id": "2107a70c-d6a4-48ef-9798-f6bdbf44aa27",
   "metadata": {},
   "source": [
    "#### Generate text embeddings\n",
    "- To generate embeddings for a dataset of texts, we'll need to group the sentences together in batches and send batches of texts to the model.\n",
    "- The API currently can take batches of up to 5 pieces of text per API call."
   ]
  },
  {
   "cell_type": "code",
   "execution_count": 10,
   "id": "678f7521-52ef-40a7-b258-a47a2b14ebc5",
   "metadata": {
    "height": 30
   },
   "outputs": [],
   "source": [
    "from vertexai.language_models import TextEmbeddingModel"
   ]
  },
  {
   "cell_type": "code",
   "execution_count": 11,
   "id": "4b1902c7-6a47-4a43-bf15-6de20ed5d7f7",
   "metadata": {
    "height": 47
   },
   "outputs": [],
   "source": [
    "model = TextEmbeddingModel.from_pretrained(\n",
    "    \"textembedding-gecko@001\")"
   ]
  },
  {
   "cell_type": "code",
   "execution_count": 12,
   "id": "0b8da7eb-cc45-4621-ac3c-bf08ee2e282a",
   "metadata": {
    "height": 47
   },
   "outputs": [],
   "source": [
    "import time\n",
    "import numpy as np"
   ]
  },
  {
   "cell_type": "code",
   "execution_count": 13,
   "id": "d531fad6-cfde-4aa7-9486-f10ab4efa71d",
   "metadata": {
    "height": 98
   },
   "outputs": [],
   "source": [
    "# Generator function to yield batches of sentences\n",
    "\n",
    "def generate_batches(sentences, batch_size = 5):\n",
    "    for i in range(0, len(sentences), batch_size):\n",
    "        yield sentences[i : i + batch_size]"
   ]
  },
  {
   "cell_type": "code",
   "execution_count": 14,
   "id": "cf78aa64-5b40-490f-85a5-f54127684823",
   "metadata": {
    "height": 47
   },
   "outputs": [],
   "source": [
    "so_questions = so_df[0:200].input_text.tolist() \n",
    "batches = generate_batches(sentences = so_questions)"
   ]
  },
  {
   "cell_type": "code",
   "execution_count": 56,
   "id": "f7887921",
   "metadata": {
    "height": 30
   },
   "outputs": [
    {
     "data": {
      "text/plain": [
       "(5,)"
      ]
     },
     "execution_count": 56,
     "metadata": {},
     "output_type": "execute_result"
    }
   ],
   "source": [
    "np.array(batch).shape"
   ]
  },
  {
   "cell_type": "code",
   "execution_count": 62,
   "id": "4c1e9d08-5949-4046-987c-ea13b26dad0a",
   "metadata": {
    "height": 47
   },
   "outputs": [
    {
     "name": "stdout",
     "output_type": "stream",
     "text": [
      "['How do I add a list to a column in pandas?<p>I\\'m trying to merge the columns <code>kw1, kw2, kw3</code> shown here:\\n<a href=\"https://i.stack.imgur.com/1A37q.png\" rel=\"nofollow noreferrer\"><img src=\"https://i.stack.imgur.com/1A37q.png\" alt=\"enter image description here\" /></a></p>\\n<p>and have it in one separate column called <code>keywords</code>. This is what I tried:</p>\\n<pre><code>df[\\'keywords\\'] = list((df[\\'kw1\\'], df[\\'kw2\\'], df[\\'kw3\\']))\\ndf\\n</code></pre>\\n<p>but I\\'m getting this error:</p>\\n<pre><code>ValueError                                Traceback (most recent call last)\\nInput In [13], in &lt;cell line: 1&gt;()\\n----&gt; 1 df[\\'keywords\\'] = list((df[\\'kw1\\'], df[\\'kw2\\'], df[\\'kw3\\']))\\n      2 df\\n\\nFile /lib/python3.10/site-packages/pandas/core/frame.py:3655, in DataFrame.__setitem__(self, key, value)\\n   3652     self._setitem_array([key], value)\\n   3653 else:\\n   3654     # set column\\n-&gt; 3655     self._set_item(key, value)\\n\\nFile /lib/python3.10/site-packages/pandas/core/frame.py:3832, in DataFrame._set_item(self, key, value)\\n   3822 def _set_item(self, key, value) -&gt; None:\\n   3823     &quot;&quot;&quot;\\n   3824     Add series to DataFrame in specified column.\\n   3825 \\n   (...)\\n   3830     ensure homogeneity.\\n   3831     &quot;&quot;&quot;\\n-&gt; 3832     value = self._sanitize_column(value)\\n   3834     if (\\n   3835         key in self.columns\\n   3836         and value.ndim == 1\\n   3837         and not is_extension_array_dtype(value)\\n   3838     ):\\n   3839         # broadcast across multiple columns if necessary\\n   3840         if not self.columns.is_unique or isinstance(self.columns, MultiIndex):\\n\\nFile /lib/python3.10/site-packages/pandas/core/frame.py:4535, in DataFrame._sanitize_column(self, value)\\n   4532     return _reindex_for_setitem(value, self.index)\\n   4534 if is_list_like(value):\\n-&gt; 4535     com.require_length_match(value, self.index)\\n   4536 return sanitize_array(value, self.index, copy=True, allow_2d=True)\\n\\nFile /lib/python3.10/site-packages/pandas/core/common.py:557, in require_length_match(data, index)\\n    553 &quot;&quot;&quot;\\n    554 Check the length of data matches the length of the index.\\n    555 &quot;&quot;&quot;\\n    556 if len(data) != len(index):\\n--&gt; 557     raise ValueError(\\n    558         &quot;Length of values &quot;\\n    559         f&quot;({len(data)}) &quot;\\n    560         &quot;does not match length of index &quot;\\n    561         f&quot;({len(index)})&quot;\\n    562     )\\n\\nValueError: Length of values (3) does not match length of index (141)\\n</code></pre>\\n<p>Is there a way to make it so that it turns it into a list like this <code>[{value of kw1}, {value of kw2}, {value of kw3}]</code></p>', \"Combining two lists and having it repeat based on the input of the first list<p>I have these two lists of the same size:</p>\\n<pre><code>list1 = [5, 1, 20, 19, 1, 1, 1, 1, 1] \\nlist2 = ['29888.20','29888.20','34298.20','35724.20','36014.20','37924.20','43886.20','54282.20', '79417.20']\\n</code></pre>\\n<p>The first list if you add all the indexes = 50.</p>\\n<p><code>5 + 1 + 20 + ....</code></p>\\n<p>My question is I want to combine the two lists.</p>\\n<p>Where 29888.20 from the first list should be repeated 5 times from list 1 and so forth.</p>\\n<p>Another example being: 34298.20 repeat 20 times</p>\\n<p><code>list1[0] = 5, list2 = 29888.20 # Have list2 value repeat 5 times</code></p>\\n<p>Final Result should be this:</p>\\n<pre><code>final_list = ['29888.20','29888.20','29888.20','29888.20','29888.20', # repeat 5 times\\n             '29888.20' # repeat 1 time\\n             '34298.20', '34298.20', # repeat 20 times\\n             '35724.20', # repeat 19 times]\\n\\n           and so forth for the rest of the items in list1 and list2\\n</code></pre>\\n<p>I hope my explanation is making sense. help would be greatly appreciated.</p>\", 'AP Scheduler not running - \"func must be a callable or a textual reference to one\"<p>I am trying to run a script that pulls data from online sources and then emails it to me at specified times. The idea is to run this script from another Python script which uses APScheduler to run the initial script. The reason I wanted to create 2 scripts is because I want to use something like cx_freeze to make an exe file out of the 2nd script which will run in the background of my pc so as not to have to have my IDE open all the time.</p>\\n<p>My code in the 2nd script looks as follows:</p>\\n<pre><code>from apscheduler.schedulers.blocking import BlockingScheduler\\nimport initial_script\\nimport os\\n\\nif __name__ == \\'__main__\\':\\n    scheduler = BlockingScheduler()\\n    scheduler.add_job(initial_script, trigger=\\'cron\\', day_of_week=\\'mon-fri\\', hour=\\'18\\', minute=\\'30\\')\\n    print(\\'Press Ctrl+{0} to exit\\'.format(\\'Break\\' if os.name == \\'nt\\' else \\'C\\'))\\n\\n    try:\\n        scheduler.start()\\n    except (KeyboardInterrupt, SystemExit):\\n        pass\\n</code></pre>\\n<p>The \\'initial_script\\' is the main python file that actually provides the information I need. The APScheduler code I mostly used from the Github repo <a href=\"https://github.com/agronholm/apscheduler/blob/3.x/examples/schedulers/blocking.py\" rel=\"nofollow noreferrer\">here</a> and then I consulted <a href=\"https://stackoverflow.com/questions/419163/what-does-if-name-main-do\">this link</a> to better understand the purpose for using the <code>__name__ = \\'__main__\\'</code> code (which I have a feeling is the problem). In the \\'initial_script\\' file I have not used <code>__name__ = \\'__main__\\'</code> anywhere.</p>\\n<p>I have made sure that both files are saved as .py formats - initially I attempted to run the scripts from .py into jupyter notebooks .ipynb but that caused more issues.</p>\\n<p>The code from the \\'initial_script\\' does run as I am receiving the email when I run it from the 2nd script but the scheduler/trigger gives me an error and does not run.</p>\\n<p>The error I get now is as follows: TypeError: func must be a callable or a textual reference to one</p>\\n<p>Please can you assist in explaining what I am doing wrong?</p>', 'Snakemake rule input and output is a directory<p>The output of a tool I am using in one of the rules is a directory with many files. The inputs of the next rule are 2 files from that directory. when I try to build the DAG, I get the missing input error.</p>\\n<pre><code>rule rule_1: #Line 62\\n    input:\\n        a=&quot;a.txt&quot;,\\n        b=&quot;b.txt&quot;\\n    output:\\n        &quot;directory_rule1&quot;\\n    params:\\n        a = &quot;10&quot;,\\n        b = &quot;1000&quot;\\n    log:\\n        &quot;rule1.log&quot;\\n    shell:\\n        &quot;nohup python2 rule1.py --a {input.a} &quot;\\n        &quot;--b {input.b} &quot;\\n        &quot;--out {output} &quot;\\n        &quot;--a {params.a} &quot;\\n        &quot;--b {params.b) &amp;&gt; {log} &quot;\\n\\nrule rule2:\\n    input:\\n        a=&quot;directory_rule1/a.tsv&quot;,\\n        b=&quot;directory_rule1/b.tsv&quot;\\n    output:\\n        &quot;a.csv&quot;\\n    params:\\n        d=&quot;500&quot;\\n    log:\\n        &quot;rule2.log&quot;\\n    shell:\\n        &quot;python3 rule2.py -a {input.a} -b {input.b} -threshold {params.d} &amp;&gt; {log} &quot;\\n</code></pre>\\n<p>The error I get is</p>\\n<pre><code>Building DAG of jobs...\\nMissingInputException in line 62 of pathtosnakefile/snakefile:\\nMissing input files for rule rule2:\\n    output: a.csv\\n    affected files:\\n        directory_rule1/a.tsv\\n        directory_rule1/b.tsv\\n</code></pre>\\n<p>I tried removing the output section from rule2 and pur dir in params section, or used directory() function in the output section. I still get the same eeror. How can I fix this?</p>\\n<p>Thanks!!</p>', \"How to know if every subsequent value is greater than the preceding ones in a pandas column? Python related<p>Say I have the following df called <code>df_trading_pair</code> which contains the following data:</p>\\n<pre><code>           Start Date  Open Price  High Price  Low Price  Close Price   Volume                End Date\\n0 2022-08-06 05:30:00      0.3738      0.3741     0.3737       0.3739  13767.0 2022-08-06 05:32:59.999\\n1 2022-08-06 05:33:00      0.3739      0.3742     0.3738       0.3741  28212.0 2022-08-06 05:35:59.999\\n2 2022-08-06 05:36:00      0.3740      0.3743     0.3739       0.3740  47274.0 2022-08-06 05:38:59.999\\n3 2022-08-06 05:39:00      0.3740      0.3740     0.3737       0.3739  55859.0 2022-08-06 05:41:59.999\\n</code></pre>\\n<p>After running <code>df_trading_pair[&quot;Volume&quot;]</code>, you get:</p>\\n<pre><code>0    13767.0\\n1    28212.0\\n2    47274.0\\n3    55859.0\\nName: Volume, dtype: float64\\n</code></pre>\\n<p>How can I know if every subsequent value is greater than the preceding ones in <code>df_trading_pair[&quot;Volume&quot;]</code></p>\\n<p>Initially I thought of coding something like this:</p>\\n<pre><code>if df_trading_pair[&quot;Volume&quot;][3] &gt; df_trading_pair[&quot;Volume&quot;][2] &gt; df_trading_pair[&quot;Volume&quot;][1] &gt; df_trading_pair[&quot;Volume&quot;][0]:\\n\\n   print(True)\\n</code></pre>\\n<p>But that doesn't look very <em><strong>Pythonic</strong></em></p>\\n<p>So I came here to learn a better approach to do that.</p>\\n<p>May I get some help here?</p>\"]\n"
     ]
    }
   ],
   "source": [
    "batch = next(batches)\n",
    "print(batch)"
   ]
  },
  {
   "cell_type": "markdown",
   "id": "70c12ffc-dab7-41fd-93e4-a6baef7ab221",
   "metadata": {},
   "source": [
    "#### Get embeddings on a batch of data\n",
    "- This helper function calls `model.get_embeddings()` on the batch of data, and returns a list containing the embeddings for each text in that batch."
   ]
  },
  {
   "cell_type": "code",
   "execution_count": 59,
   "id": "fe933993-1cdf-460b-afad-0173b2282e8d",
   "metadata": {
    "height": 115
   },
   "outputs": [],
   "source": [
    "def encode_texts_to_embeddings(sentences):\n",
    "    try:\n",
    "        embeddings = model.get_embeddings(sentences)\n",
    "        return [embedding.values for embedding in embeddings]\n",
    "    except Exception:\n",
    "        return [None for _ in range(len(sentences))]"
   ]
  },
  {
   "cell_type": "code",
   "execution_count": 17,
   "id": "b9190606-9d73-4455-ab4b-97df20f0a2fb",
   "metadata": {
    "height": 30
   },
   "outputs": [],
   "source": [
    "batch_embeddings = encode_texts_to_embeddings(batch)"
   ]
  },
  {
   "cell_type": "code",
   "execution_count": 18,
   "id": "259f5f5d-0c6b-4030-9a45-92438625b792",
   "metadata": {
    "height": 47
   },
   "outputs": [
    {
     "data": {
      "text/plain": [
       "'5 embeddings of size 768'"
      ]
     },
     "execution_count": 18,
     "metadata": {},
     "output_type": "execute_result"
    }
   ],
   "source": [
    "f\"{len(batch_embeddings)} embeddings of size \\\n",
    "{len(batch_embeddings[0])}\""
   ]
  },
  {
   "cell_type": "markdown",
   "id": "debb7234-eccd-4dc8-bb4b-abd7a21c7714",
   "metadata": {},
   "source": [
    "#### Code for getting data on an entire data set\n",
    "- Most API services have rate limits, so we've provided a helper function (in utils.py) that you could use to wait in-between API calls.\n",
    "- If the code was not designed to wait in-between API calls, you may not receive embeddings for all batches of text.\n",
    "- This particular service can handle 20 calls per minute.  In calls per second, that's 20 calls divided by 60 seconds, or `20/60`.\n",
    "\n",
    "```Python\n",
    "from utils import encode_text_to_embedding_batched\n",
    "\n",
    "so_questions = so_df.input_text.tolist()\n",
    "question_embeddings = encode_text_to_embedding_batched(\n",
    "                            sentences=so_questions,\n",
    "                            api_calls_per_second = 20/60, \n",
    "                            batch_size = 5)\n",
    "```\n",
    "\n",
    "In order to handle limits of this classroom environment, we're not going to run this code to embed all of the data. But you can adapt this code for your own projects and datasets."
   ]
  },
  {
   "cell_type": "markdown",
   "id": "fdd85d39-72d8-432d-9210-55e14cac508c",
   "metadata": {},
   "source": [
    "#### Load the data from file\n",
    "- We'll load the stack overflow questions, answers, and category labels (Python, HTML, R, CSS) from a .csv file.\n",
    "- We'll load the embeddings of the questions (which we've precomputed with batched calls to `model.get_embeddings()`), from a pickle file."
   ]
  },
  {
   "cell_type": "code",
   "execution_count": 19,
   "id": "87c78630-2cda-487a-be24-5ade753d76f9",
   "metadata": {
    "height": 47
   },
   "outputs": [
    {
     "data": {
      "text/html": [
       "<div>\n",
       "<style scoped>\n",
       "    .dataframe tbody tr th:only-of-type {\n",
       "        vertical-align: middle;\n",
       "    }\n",
       "\n",
       "    .dataframe tbody tr th {\n",
       "        vertical-align: top;\n",
       "    }\n",
       "\n",
       "    .dataframe thead th {\n",
       "        text-align: right;\n",
       "    }\n",
       "</style>\n",
       "<table border=\"1\" class=\"dataframe\">\n",
       "  <thead>\n",
       "    <tr style=\"text-align: right;\">\n",
       "      <th></th>\n",
       "      <th>input_text</th>\n",
       "      <th>output_text</th>\n",
       "      <th>category</th>\n",
       "    </tr>\n",
       "  </thead>\n",
       "  <tbody>\n",
       "    <tr>\n",
       "      <th>0</th>\n",
       "      <td>python's inspect.getfile returns \"&lt;string&gt;\"&lt;p&gt;...</td>\n",
       "      <td>&lt;p&gt;&lt;code&gt;&amp;lt;string&amp;gt;&lt;/code&gt; means that the ...</td>\n",
       "      <td>python</td>\n",
       "    </tr>\n",
       "    <tr>\n",
       "      <th>1</th>\n",
       "      <td>Passing parameter to function while multithrea...</td>\n",
       "      <td>&lt;p&gt;Try this and note the difference:&lt;/p&gt;\\n&lt;pre...</td>\n",
       "      <td>python</td>\n",
       "    </tr>\n",
       "    <tr>\n",
       "      <th>2</th>\n",
       "      <td>How do we test a specific method written in a ...</td>\n",
       "      <td>&lt;p&gt;Duplicate of &lt;a href=\"https://stackoverflow...</td>\n",
       "      <td>python</td>\n",
       "    </tr>\n",
       "    <tr>\n",
       "      <th>3</th>\n",
       "      <td>how can i remove the black bg color of an imag...</td>\n",
       "      <td>&lt;p&gt;The alpha channel &amp;quot;disappears&amp;quot; be...</td>\n",
       "      <td>python</td>\n",
       "    </tr>\n",
       "    <tr>\n",
       "      <th>4</th>\n",
       "      <td>How to extract each sheet within an Excel file...</td>\n",
       "      <td>&lt;p&gt;You need to specify the &lt;code&gt;index&lt;/code&gt; ...</td>\n",
       "      <td>python</td>\n",
       "    </tr>\n",
       "  </tbody>\n",
       "</table>\n",
       "</div>"
      ],
      "text/plain": [
       "                                          input_text  \\\n",
       "0  python's inspect.getfile returns \"<string>\"<p>...   \n",
       "1  Passing parameter to function while multithrea...   \n",
       "2  How do we test a specific method written in a ...   \n",
       "3  how can i remove the black bg color of an imag...   \n",
       "4  How to extract each sheet within an Excel file...   \n",
       "\n",
       "                                         output_text category  \n",
       "0  <p><code>&lt;string&gt;</code> means that the ...   python  \n",
       "1  <p>Try this and note the difference:</p>\\n<pre...   python  \n",
       "2  <p>Duplicate of <a href=\"https://stackoverflow...   python  \n",
       "3  <p>The alpha channel &quot;disappears&quot; be...   python  \n",
       "4  <p>You need to specify the <code>index</code> ...   python  "
      ]
     },
     "execution_count": 19,
     "metadata": {},
     "output_type": "execute_result"
    }
   ],
   "source": [
    "so_df = pd.read_csv('so_database_app.csv')\n",
    "so_df.head()"
   ]
  },
  {
   "cell_type": "code",
   "execution_count": 20,
   "id": "7a413056-0ec7-4137-a191-814e4797e0a2",
   "metadata": {
    "height": 30
   },
   "outputs": [],
   "source": [
    "import pickle"
   ]
  },
  {
   "cell_type": "code",
   "execution_count": 21,
   "id": "c7836318-0148-456d-b29e-4a26aa4f8221",
   "metadata": {
    "height": 47
   },
   "outputs": [],
   "source": [
    "with open('question_embeddings_app.pkl', 'rb') as file:\n",
    "    question_embeddings = pickle.load(file)"
   ]
  },
  {
   "cell_type": "code",
   "execution_count": 22,
   "id": "7a4134a8-76d3-4677-b180-f8477b1a2c15",
   "metadata": {
    "height": 47
   },
   "outputs": [
    {
     "name": "stdout",
     "output_type": "stream",
     "text": [
      "Shape: (2000, 768)\n",
      "[[-0.03571156 -0.00240684  0.05860338 ... -0.03100227 -0.00855574\n",
      "  -0.01997405]\n",
      " [-0.02024316 -0.0026255   0.01940405 ... -0.02158143 -0.05655403\n",
      "  -0.01040497]\n",
      " [-0.05175979 -0.03712264  0.02699278 ... -0.07055898 -0.0402537\n",
      "   0.00092099]\n",
      " ...\n",
      " [-0.00580394 -0.01621097  0.05829635 ... -0.03350992 -0.05343556\n",
      "  -0.06016821]\n",
      " [-0.00436622 -0.02692963  0.03363771 ... -0.01686567 -0.03812337\n",
      "  -0.02329491]\n",
      " [-0.04240424 -0.01633749  0.05516777 ... -0.02697376 -0.01751165\n",
      "  -0.04558187]]\n"
     ]
    }
   ],
   "source": [
    "print(\"Shape: \" + str(question_embeddings.shape))\n",
    "print(question_embeddings)"
   ]
  },
  {
   "cell_type": "markdown",
   "id": "3061eb7d-b69c-4eae-b583-67e9d7ca1f47",
   "metadata": {},
   "source": [
    "#### Cluster the embeddings of the Stack Overflow questions"
   ]
  },
  {
   "cell_type": "code",
   "execution_count": 23,
   "id": "a58b189d-61f7-4c68-8c73-769c59a23987",
   "metadata": {
    "height": 47
   },
   "outputs": [],
   "source": [
    "from sklearn.cluster import KMeans\n",
    "from sklearn.decomposition import PCA"
   ]
  },
  {
   "cell_type": "code",
   "execution_count": 63,
   "id": "dd2cd054-426e-4d92-9561-285a0b55792e",
   "metadata": {
    "height": 30
   },
   "outputs": [],
   "source": [
    "clustering_dataset = question_embeddings[:]"
   ]
  },
  {
   "cell_type": "code",
   "execution_count": 64,
   "id": "05421596-894c-4d53-9551-61839e72c0eb",
   "metadata": {
    "height": 81
   },
   "outputs": [],
   "source": [
    "n_clusters = 2\n",
    "kmeans = KMeans(n_clusters=n_clusters, \n",
    "                random_state=0, \n",
    "                n_init = 'auto').fit(clustering_dataset)"
   ]
  },
  {
   "cell_type": "code",
   "execution_count": 65,
   "id": "7fac5a79-7639-4072-8c9d-86dc2e2c6658",
   "metadata": {
    "height": 30
   },
   "outputs": [],
   "source": [
    "kmeans_labels = kmeans.labels_"
   ]
  },
  {
   "cell_type": "code",
   "execution_count": 66,
   "id": "210b0fbe-a5df-488f-9814-60f4304804d0",
   "metadata": {
    "height": 64
   },
   "outputs": [],
   "source": [
    "PCA_model = PCA(n_components=2)\n",
    "PCA_model.fit(clustering_dataset)\n",
    "new_values = PCA_model.transform(clustering_dataset)"
   ]
  },
  {
   "cell_type": "code",
   "execution_count": 67,
   "id": "6d2095e0-605f-4dd3-9786-2f313ff5c60a",
   "metadata": {
    "height": 64
   },
   "outputs": [],
   "source": [
    "import matplotlib.pyplot as plt\n",
    "import mplcursors\n",
    "%matplotlib ipympl"
   ]
  },
  {
   "cell_type": "code",
   "execution_count": 69,
   "id": "961b770b-53ea-4b49-bfc8-507cd711fc99",
   "metadata": {
    "height": 64
   },
   "outputs": [],
   "source": [
    "from utils import clusters_2D\n",
    "clusters_2D(x_values = new_values[:,0], y_values = new_values[:,1], \n",
    "            labels = so_df[:1000], kmeans_labels = kmeans_labels)"
   ]
  },
  {
   "cell_type": "markdown",
   "id": "b499cf9d-c739-4a34-b38d-e270fffe14f7",
   "metadata": {},
   "source": [
    "- Clustering is able to identify two distinct clusters of HTML or Python related questions, without being given the category labels (HTML or Python)."
   ]
  },
  {
   "cell_type": "markdown",
   "id": "c46c217f-d121-4a14-a351-340a134db73f",
   "metadata": {},
   "source": [
    "## Anomaly / Outlier detection\n",
    "\n",
    "- We can add an anomalous piece of text and check if the outlier (anomaly) detection algorithm (Isolation Forest) can identify it as an outlier (anomaly), based on its embedding."
   ]
  },
  {
   "cell_type": "code",
   "execution_count": 30,
   "id": "8f7e3a9e-ec14-4f85-9eef-5766f85e0d0c",
   "metadata": {
    "height": 30
   },
   "outputs": [],
   "source": [
    "from sklearn.ensemble import IsolationForest"
   ]
  },
  {
   "cell_type": "code",
   "execution_count": 31,
   "id": "96d872a2-5fbb-466b-ac80-84a1c6458006",
   "metadata": {
    "height": 81
   },
   "outputs": [],
   "source": [
    "input_text = \"\"\"I am making cookies but don't \n",
    "                remember the correct ingredient proportions. \n",
    "                I have been unable to find \n",
    "                anything on the web.\"\"\""
   ]
  },
  {
   "cell_type": "code",
   "execution_count": 32,
   "id": "ffb3b6f7-8cc8-4f3b-a19e-541956903e9e",
   "metadata": {
    "height": 30
   },
   "outputs": [],
   "source": [
    "emb = model.get_embeddings([input_text])[0].values"
   ]
  },
  {
   "cell_type": "code",
   "execution_count": 33,
   "id": "b89da1d8-d17f-4ac7-a774-7fc0f67fba00",
   "metadata": {
    "height": 47
   },
   "outputs": [],
   "source": [
    "embeddings_l = question_embeddings.tolist()\n",
    "embeddings_l.append(emb)"
   ]
  },
  {
   "cell_type": "code",
   "execution_count": 34,
   "id": "1f98eb7a-9a62-4d08-8744-5618cdf6d241",
   "metadata": {
    "height": 30
   },
   "outputs": [],
   "source": [
    "embeddings_array = np.array(embeddings_l)"
   ]
  },
  {
   "cell_type": "code",
   "execution_count": 35,
   "id": "b8a6eaa7-1067-4414-9e40-05352eb5ec03",
   "metadata": {
    "height": 47
   },
   "outputs": [
    {
     "name": "stdout",
     "output_type": "stream",
     "text": [
      "Shape: (2001, 768)\n",
      "[[-0.03571156 -0.00240684  0.05860338 ... -0.03100227 -0.00855574\n",
      "  -0.01997405]\n",
      " [-0.02024316 -0.0026255   0.01940405 ... -0.02158143 -0.05655403\n",
      "  -0.01040497]\n",
      " [-0.05175979 -0.03712264  0.02699278 ... -0.07055898 -0.0402537\n",
      "   0.00092099]\n",
      " ...\n",
      " [-0.00436622 -0.02692963  0.03363771 ... -0.01686567 -0.03812337\n",
      "  -0.02329491]\n",
      " [-0.04240424 -0.01633749  0.05516777 ... -0.02697376 -0.01751165\n",
      "  -0.04558187]\n",
      " [-0.00302366 -0.02049104  0.02172194 ... -0.04479321 -0.05254056\n",
      "  -0.00319716]]\n"
     ]
    }
   ],
   "source": [
    "print(\"Shape: \" + str(embeddings_array.shape))\n",
    "print(embeddings_array)"
   ]
  },
  {
   "cell_type": "code",
   "execution_count": 36,
   "id": "11467308-b48a-4341-a918-83940239762f",
   "metadata": {
    "height": 115
   },
   "outputs": [
    {
     "data": {
      "text/html": [
       "<div>\n",
       "<style scoped>\n",
       "    .dataframe tbody tr th:only-of-type {\n",
       "        vertical-align: middle;\n",
       "    }\n",
       "\n",
       "    .dataframe tbody tr th {\n",
       "        vertical-align: top;\n",
       "    }\n",
       "\n",
       "    .dataframe thead th {\n",
       "        text-align: right;\n",
       "    }\n",
       "</style>\n",
       "<table border=\"1\" class=\"dataframe\">\n",
       "  <thead>\n",
       "    <tr style=\"text-align: right;\">\n",
       "      <th></th>\n",
       "      <th>input_text</th>\n",
       "      <th>output_text</th>\n",
       "      <th>category</th>\n",
       "    </tr>\n",
       "  </thead>\n",
       "  <tbody>\n",
       "    <tr>\n",
       "      <th>1996</th>\n",
       "      <td>Flip Clock code works on Codepen and doesn't w...</td>\n",
       "      <td>&lt;p&gt;You forgot to attach the CSS file for the f...</td>\n",
       "      <td>css</td>\n",
       "    </tr>\n",
       "    <tr>\n",
       "      <th>1997</th>\n",
       "      <td>React Native How can I put one view in front o...</td>\n",
       "      <td>&lt;p&gt;You can do it using zIndex for example:&lt;/p&gt;...</td>\n",
       "      <td>css</td>\n",
       "    </tr>\n",
       "    <tr>\n",
       "      <th>1998</th>\n",
       "      <td>setting fixed width with 100% height of the pa...</td>\n",
       "      <td>&lt;p&gt;You can use &lt;code&gt;width: calc(100% - 100px)...</td>\n",
       "      <td>css</td>\n",
       "    </tr>\n",
       "    <tr>\n",
       "      <th>1999</th>\n",
       "      <td>How to make sidebar button not bring viewpoint...</td>\n",
       "      <td>&lt;p&gt;It is quite simple, just remove that href=\"...</td>\n",
       "      <td>css</td>\n",
       "    </tr>\n",
       "    <tr>\n",
       "      <th>2001</th>\n",
       "      <td>I am making cookies but don't \\n              ...</td>\n",
       "      <td>None</td>\n",
       "      <td>baking</td>\n",
       "    </tr>\n",
       "  </tbody>\n",
       "</table>\n",
       "</div>"
      ],
      "text/plain": [
       "                                             input_text  \\\n",
       "1996  Flip Clock code works on Codepen and doesn't w...   \n",
       "1997  React Native How can I put one view in front o...   \n",
       "1998  setting fixed width with 100% height of the pa...   \n",
       "1999  How to make sidebar button not bring viewpoint...   \n",
       "2001  I am making cookies but don't \\n              ...   \n",
       "\n",
       "                                            output_text category  \n",
       "1996  <p>You forgot to attach the CSS file for the f...      css  \n",
       "1997  <p>You can do it using zIndex for example:</p>...      css  \n",
       "1998  <p>You can use <code>width: calc(100% - 100px)...      css  \n",
       "1999  <p>It is quite simple, just remove that href=\"...      css  \n",
       "2001                                               None   baking  "
      ]
     },
     "execution_count": 36,
     "metadata": {},
     "output_type": "execute_result"
    }
   ],
   "source": [
    "# Add the outlier text to the end of the stack overflow dataframe\n",
    "so_df = pd.read_csv('so_database_app.csv')\n",
    "new_row = pd.Series([input_text, None, \"baking\"], \n",
    "                    index=so_df.columns)\n",
    "so_df.loc[len(so_df)+1] = new_row\n",
    "so_df.tail()"
   ]
  },
  {
   "cell_type": "markdown",
   "id": "da8b00f6-bc36-4e07-87af-043609e273c4",
   "metadata": {},
   "source": [
    "#### Use Isolation Forest to identify potential outliers\n",
    "\n",
    "- `IsolationForest` classifier will predict `-1` for potential outliers, and `1` for non-outliers.\n",
    "- You can inspect the rows that were predicted to be potential outliers and verify that the question about baking is predicted to be an outlier."
   ]
  },
  {
   "cell_type": "code",
   "execution_count": 37,
   "id": "36815aaf-fa2a-4e0f-98d0-07c334a79887",
   "metadata": {
    "height": 47
   },
   "outputs": [],
   "source": [
    "clf = IsolationForest(contamination=0.005, \n",
    "                      random_state = 2) "
   ]
  },
  {
   "cell_type": "code",
   "execution_count": 38,
   "id": "5781dcd9-cdce-4307-ba49-dccf9cd7646e",
   "metadata": {
    "height": 64
   },
   "outputs": [
    {
     "name": "stdout",
     "output_type": "stream",
     "text": [
      "2001 predictions. Set of possible values: {1, -1}\n"
     ]
    }
   ],
   "source": [
    "preds = clf.fit_predict(embeddings_array)\n",
    "\n",
    "print(f\"{len(preds)} predictions. Set of possible values: {set(preds)}\")"
   ]
  },
  {
   "cell_type": "code",
   "execution_count": 39,
   "id": "483e753a-5291-423b-a7a3-c36af012d3f4",
   "metadata": {
    "height": 30
   },
   "outputs": [
    {
     "data": {
      "text/html": [
       "<div>\n",
       "<style scoped>\n",
       "    .dataframe tbody tr th:only-of-type {\n",
       "        vertical-align: middle;\n",
       "    }\n",
       "\n",
       "    .dataframe tbody tr th {\n",
       "        vertical-align: top;\n",
       "    }\n",
       "\n",
       "    .dataframe thead th {\n",
       "        text-align: right;\n",
       "    }\n",
       "</style>\n",
       "<table border=\"1\" class=\"dataframe\">\n",
       "  <thead>\n",
       "    <tr style=\"text-align: right;\">\n",
       "      <th></th>\n",
       "      <th>input_text</th>\n",
       "      <th>output_text</th>\n",
       "      <th>category</th>\n",
       "    </tr>\n",
       "  </thead>\n",
       "  <tbody>\n",
       "    <tr>\n",
       "      <th>203</th>\n",
       "      <td>extract channel names from a multi-channel ima...</td>\n",
       "      <td>&lt;p&gt;PerkinElmer QPI metadata are stored as XML ...</td>\n",
       "      <td>python</td>\n",
       "    </tr>\n",
       "    <tr>\n",
       "      <th>1018</th>\n",
       "      <td>ASP .NET - JSON Serializer not working on clas...</td>\n",
       "      <td>&lt;p&gt;Ok, I forgot to add default &lt;code&gt;{ get; se...</td>\n",
       "      <td>r</td>\n",
       "    </tr>\n",
       "    <tr>\n",
       "      <th>1138</th>\n",
       "      <td>parse year and month from a string SQL BigQuer...</td>\n",
       "      <td>&lt;p&gt;How about using string operations?&lt;/p&gt;\\n&lt;pr...</td>\n",
       "      <td>r</td>\n",
       "    </tr>\n",
       "    <tr>\n",
       "      <th>1313</th>\n",
       "      <td>Array initialization with ternary operator in ...</td>\n",
       "      <td>&lt;p&gt;To make your code work, do the following in...</td>\n",
       "      <td>r</td>\n",
       "    </tr>\n",
       "    <tr>\n",
       "      <th>1358</th>\n",
       "      <td>How to represent 2 Entity with 2 Relation in E...</td>\n",
       "      <td>&lt;p&gt;&lt;a href=\"https://i.stack.imgur.com/BJxBP.pn...</td>\n",
       "      <td>r</td>\n",
       "    </tr>\n",
       "    <tr>\n",
       "      <th>1403</th>\n",
       "      <td>Apache ignite Partition Map Exchange , Baselin...</td>\n",
       "      <td>&lt;p&gt;Long story short, these topics are about da...</td>\n",
       "      <td>r</td>\n",
       "    </tr>\n",
       "    <tr>\n",
       "      <th>1427</th>\n",
       "      <td>Shortcut to reveal in Finder for currently ope...</td>\n",
       "      <td>&lt;p&gt;No. It is not present but we can add it. Go...</td>\n",
       "      <td>r</td>\n",
       "    </tr>\n",
       "    <tr>\n",
       "      <th>1493</th>\n",
       "      <td>How to change id of datatable?&lt;p&gt;I have some w...</td>\n",
       "      <td>&lt;p&gt;In short - you can't. But maybe you can:&lt;/p...</td>\n",
       "      <td>r</td>\n",
       "    </tr>\n",
       "    <tr>\n",
       "      <th>1498</th>\n",
       "      <td>What’s the difference between Next.js rewrites...</td>\n",
       "      <td>&lt;p&gt;&lt;code&gt;rewrites&lt;/code&gt; are a convenient way ...</td>\n",
       "      <td>r</td>\n",
       "    </tr>\n",
       "    <tr>\n",
       "      <th>2001</th>\n",
       "      <td>I am making cookies but don't \\n              ...</td>\n",
       "      <td>None</td>\n",
       "      <td>baking</td>\n",
       "    </tr>\n",
       "  </tbody>\n",
       "</table>\n",
       "</div>"
      ],
      "text/plain": [
       "                                             input_text  \\\n",
       "203   extract channel names from a multi-channel ima...   \n",
       "1018  ASP .NET - JSON Serializer not working on clas...   \n",
       "1138  parse year and month from a string SQL BigQuer...   \n",
       "1313  Array initialization with ternary operator in ...   \n",
       "1358  How to represent 2 Entity with 2 Relation in E...   \n",
       "1403  Apache ignite Partition Map Exchange , Baselin...   \n",
       "1427  Shortcut to reveal in Finder for currently ope...   \n",
       "1493  How to change id of datatable?<p>I have some w...   \n",
       "1498  What’s the difference between Next.js rewrites...   \n",
       "2001  I am making cookies but don't \\n              ...   \n",
       "\n",
       "                                            output_text category  \n",
       "203   <p>PerkinElmer QPI metadata are stored as XML ...   python  \n",
       "1018  <p>Ok, I forgot to add default <code>{ get; se...        r  \n",
       "1138  <p>How about using string operations?</p>\\n<pr...        r  \n",
       "1313  <p>To make your code work, do the following in...        r  \n",
       "1358  <p><a href=\"https://i.stack.imgur.com/BJxBP.pn...        r  \n",
       "1403  <p>Long story short, these topics are about da...        r  \n",
       "1427  <p>No. It is not present but we can add it. Go...        r  \n",
       "1493  <p>In short - you can't. But maybe you can:</p...        r  \n",
       "1498  <p><code>rewrites</code> are a convenient way ...        r  \n",
       "2001                                               None   baking  "
      ]
     },
     "execution_count": 39,
     "metadata": {},
     "output_type": "execute_result"
    }
   ],
   "source": [
    "so_df.loc[preds == -1]"
   ]
  },
  {
   "cell_type": "markdown",
   "id": "4237f497-489e-448c-bf52-781a31d28558",
   "metadata": {},
   "source": [
    "#### Remove the outlier about baking"
   ]
  },
  {
   "cell_type": "code",
   "execution_count": 40,
   "id": "e8da293f-7945-4686-93fb-0a62269fed07",
   "metadata": {
    "height": 30
   },
   "outputs": [],
   "source": [
    "so_df = so_df.drop(so_df.index[-1])"
   ]
  },
  {
   "cell_type": "code",
   "execution_count": 41,
   "id": "869a7b82-a813-474d-98d3-d740a2e8e6c5",
   "metadata": {
    "height": 30
   },
   "outputs": [
    {
     "data": {
      "text/html": [
       "<div>\n",
       "<style scoped>\n",
       "    .dataframe tbody tr th:only-of-type {\n",
       "        vertical-align: middle;\n",
       "    }\n",
       "\n",
       "    .dataframe tbody tr th {\n",
       "        vertical-align: top;\n",
       "    }\n",
       "\n",
       "    .dataframe thead th {\n",
       "        text-align: right;\n",
       "    }\n",
       "</style>\n",
       "<table border=\"1\" class=\"dataframe\">\n",
       "  <thead>\n",
       "    <tr style=\"text-align: right;\">\n",
       "      <th></th>\n",
       "      <th>input_text</th>\n",
       "      <th>output_text</th>\n",
       "      <th>category</th>\n",
       "    </tr>\n",
       "  </thead>\n",
       "  <tbody>\n",
       "    <tr>\n",
       "      <th>0</th>\n",
       "      <td>python's inspect.getfile returns \"&lt;string&gt;\"&lt;p&gt;...</td>\n",
       "      <td>&lt;p&gt;&lt;code&gt;&amp;lt;string&amp;gt;&lt;/code&gt; means that the ...</td>\n",
       "      <td>python</td>\n",
       "    </tr>\n",
       "    <tr>\n",
       "      <th>1</th>\n",
       "      <td>Passing parameter to function while multithrea...</td>\n",
       "      <td>&lt;p&gt;Try this and note the difference:&lt;/p&gt;\\n&lt;pre...</td>\n",
       "      <td>python</td>\n",
       "    </tr>\n",
       "    <tr>\n",
       "      <th>2</th>\n",
       "      <td>How do we test a specific method written in a ...</td>\n",
       "      <td>&lt;p&gt;Duplicate of &lt;a href=\"https://stackoverflow...</td>\n",
       "      <td>python</td>\n",
       "    </tr>\n",
       "    <tr>\n",
       "      <th>3</th>\n",
       "      <td>how can i remove the black bg color of an imag...</td>\n",
       "      <td>&lt;p&gt;The alpha channel &amp;quot;disappears&amp;quot; be...</td>\n",
       "      <td>python</td>\n",
       "    </tr>\n",
       "    <tr>\n",
       "      <th>4</th>\n",
       "      <td>How to extract each sheet within an Excel file...</td>\n",
       "      <td>&lt;p&gt;You need to specify the &lt;code&gt;index&lt;/code&gt; ...</td>\n",
       "      <td>python</td>\n",
       "    </tr>\n",
       "    <tr>\n",
       "      <th>...</th>\n",
       "      <td>...</td>\n",
       "      <td>...</td>\n",
       "      <td>...</td>\n",
       "    </tr>\n",
       "    <tr>\n",
       "      <th>1995</th>\n",
       "      <td>Is it possible to made inline-block elements l...</td>\n",
       "      <td>&lt;p&gt;If this is only for the visual purpose then...</td>\n",
       "      <td>css</td>\n",
       "    </tr>\n",
       "    <tr>\n",
       "      <th>1996</th>\n",
       "      <td>Flip Clock code works on Codepen and doesn't w...</td>\n",
       "      <td>&lt;p&gt;You forgot to attach the CSS file for the f...</td>\n",
       "      <td>css</td>\n",
       "    </tr>\n",
       "    <tr>\n",
       "      <th>1997</th>\n",
       "      <td>React Native How can I put one view in front o...</td>\n",
       "      <td>&lt;p&gt;You can do it using zIndex for example:&lt;/p&gt;...</td>\n",
       "      <td>css</td>\n",
       "    </tr>\n",
       "    <tr>\n",
       "      <th>1998</th>\n",
       "      <td>setting fixed width with 100% height of the pa...</td>\n",
       "      <td>&lt;p&gt;You can use &lt;code&gt;width: calc(100% - 100px)...</td>\n",
       "      <td>css</td>\n",
       "    </tr>\n",
       "    <tr>\n",
       "      <th>1999</th>\n",
       "      <td>How to make sidebar button not bring viewpoint...</td>\n",
       "      <td>&lt;p&gt;It is quite simple, just remove that href=\"...</td>\n",
       "      <td>css</td>\n",
       "    </tr>\n",
       "  </tbody>\n",
       "</table>\n",
       "<p>2000 rows × 3 columns</p>\n",
       "</div>"
      ],
      "text/plain": [
       "                                             input_text  \\\n",
       "0     python's inspect.getfile returns \"<string>\"<p>...   \n",
       "1     Passing parameter to function while multithrea...   \n",
       "2     How do we test a specific method written in a ...   \n",
       "3     how can i remove the black bg color of an imag...   \n",
       "4     How to extract each sheet within an Excel file...   \n",
       "...                                                 ...   \n",
       "1995  Is it possible to made inline-block elements l...   \n",
       "1996  Flip Clock code works on Codepen and doesn't w...   \n",
       "1997  React Native How can I put one view in front o...   \n",
       "1998  setting fixed width with 100% height of the pa...   \n",
       "1999  How to make sidebar button not bring viewpoint...   \n",
       "\n",
       "                                            output_text category  \n",
       "0     <p><code>&lt;string&gt;</code> means that the ...   python  \n",
       "1     <p>Try this and note the difference:</p>\\n<pre...   python  \n",
       "2     <p>Duplicate of <a href=\"https://stackoverflow...   python  \n",
       "3     <p>The alpha channel &quot;disappears&quot; be...   python  \n",
       "4     <p>You need to specify the <code>index</code> ...   python  \n",
       "...                                                 ...      ...  \n",
       "1995  <p>If this is only for the visual purpose then...      css  \n",
       "1996  <p>You forgot to attach the CSS file for the f...      css  \n",
       "1997  <p>You can do it using zIndex for example:</p>...      css  \n",
       "1998  <p>You can use <code>width: calc(100% - 100px)...      css  \n",
       "1999  <p>It is quite simple, just remove that href=\"...      css  \n",
       "\n",
       "[2000 rows x 3 columns]"
      ]
     },
     "execution_count": 41,
     "metadata": {},
     "output_type": "execute_result"
    }
   ],
   "source": [
    "so_df"
   ]
  },
  {
   "cell_type": "markdown",
   "id": "a14167fd-21f5-4929-9ec3-ff85a9a4de9e",
   "metadata": {},
   "source": [
    "## Classification\n",
    "- Train a random forest model to classify the category of a Stack Overflow question (as either Python, R, HTML or CSS)."
   ]
  },
  {
   "cell_type": "code",
   "execution_count": 42,
   "id": "319bf0c2-92d1-403b-acd9-919a3e21033f",
   "metadata": {
    "height": 30
   },
   "outputs": [],
   "source": [
    "from sklearn.ensemble import RandomForestClassifier"
   ]
  },
  {
   "cell_type": "code",
   "execution_count": 43,
   "id": "6dd46eb2-445a-4e1f-97a0-8c995bfaf892",
   "metadata": {
    "height": 47
   },
   "outputs": [],
   "source": [
    "from sklearn.metrics import accuracy_score\n",
    "from sklearn.model_selection import train_test_split"
   ]
  },
  {
   "cell_type": "code",
   "execution_count": 44,
   "id": "c6a79406-57bb-4480-9184-1ba9bebd5c36",
   "metadata": {
    "height": 81
   },
   "outputs": [
    {
     "data": {
      "text/plain": [
       "(2000, 768)"
      ]
     },
     "execution_count": 44,
     "metadata": {},
     "output_type": "execute_result"
    }
   ],
   "source": [
    "# re-load the dataset from file\n",
    "so_df = pd.read_csv('so_database_app.csv')\n",
    "X = question_embeddings\n",
    "X.shape"
   ]
  },
  {
   "cell_type": "code",
   "execution_count": 45,
   "id": "10826eca-8fa0-4ce7-9b93-aa3e8fb19e2e",
   "metadata": {
    "height": 47
   },
   "outputs": [
    {
     "data": {
      "text/plain": [
       "(2000,)"
      ]
     },
     "execution_count": 45,
     "metadata": {},
     "output_type": "execute_result"
    }
   ],
   "source": [
    "y = so_df['category'].values\n",
    "y.shape"
   ]
  },
  {
   "cell_type": "code",
   "execution_count": 46,
   "id": "a6a3ac12-b97a-4345-aea4-498de0babb38",
   "metadata": {
    "height": 81
   },
   "outputs": [],
   "source": [
    "X_train, X_test, y_train, y_test = train_test_split(X, \n",
    "                                                    y, \n",
    "                                                    test_size = 0.2, \n",
    "                                                    random_state = 2)"
   ]
  },
  {
   "cell_type": "code",
   "execution_count": 47,
   "id": "b65f8db9-7c39-42bd-ac01-8217688454ec",
   "metadata": {
    "height": 30
   },
   "outputs": [],
   "source": [
    "clf = RandomForestClassifier(n_estimators=200)"
   ]
  },
  {
   "cell_type": "code",
   "execution_count": 48,
   "id": "1e6a0d25-9708-41b8-a754-bdccf5b94b66",
   "metadata": {
    "height": 30
   },
   "outputs": [
    {
     "data": {
      "text/html": [
       "<style>#sk-container-id-1 {color: black;background-color: white;}#sk-container-id-1 pre{padding: 0;}#sk-container-id-1 div.sk-toggleable {background-color: white;}#sk-container-id-1 label.sk-toggleable__label {cursor: pointer;display: block;width: 100%;margin-bottom: 0;padding: 0.3em;box-sizing: border-box;text-align: center;}#sk-container-id-1 label.sk-toggleable__label-arrow:before {content: \"▸\";float: left;margin-right: 0.25em;color: #696969;}#sk-container-id-1 label.sk-toggleable__label-arrow:hover:before {color: black;}#sk-container-id-1 div.sk-estimator:hover label.sk-toggleable__label-arrow:before {color: black;}#sk-container-id-1 div.sk-toggleable__content {max-height: 0;max-width: 0;overflow: hidden;text-align: left;background-color: #f0f8ff;}#sk-container-id-1 div.sk-toggleable__content pre {margin: 0.2em;color: black;border-radius: 0.25em;background-color: #f0f8ff;}#sk-container-id-1 input.sk-toggleable__control:checked~div.sk-toggleable__content {max-height: 200px;max-width: 100%;overflow: auto;}#sk-container-id-1 input.sk-toggleable__control:checked~label.sk-toggleable__label-arrow:before {content: \"▾\";}#sk-container-id-1 div.sk-estimator input.sk-toggleable__control:checked~label.sk-toggleable__label {background-color: #d4ebff;}#sk-container-id-1 div.sk-label input.sk-toggleable__control:checked~label.sk-toggleable__label {background-color: #d4ebff;}#sk-container-id-1 input.sk-hidden--visually {border: 0;clip: rect(1px 1px 1px 1px);clip: rect(1px, 1px, 1px, 1px);height: 1px;margin: -1px;overflow: hidden;padding: 0;position: absolute;width: 1px;}#sk-container-id-1 div.sk-estimator {font-family: monospace;background-color: #f0f8ff;border: 1px dotted black;border-radius: 0.25em;box-sizing: border-box;margin-bottom: 0.5em;}#sk-container-id-1 div.sk-estimator:hover {background-color: #d4ebff;}#sk-container-id-1 div.sk-parallel-item::after {content: \"\";width: 100%;border-bottom: 1px solid gray;flex-grow: 1;}#sk-container-id-1 div.sk-label:hover label.sk-toggleable__label {background-color: #d4ebff;}#sk-container-id-1 div.sk-serial::before {content: \"\";position: absolute;border-left: 1px solid gray;box-sizing: border-box;top: 0;bottom: 0;left: 50%;z-index: 0;}#sk-container-id-1 div.sk-serial {display: flex;flex-direction: column;align-items: center;background-color: white;padding-right: 0.2em;padding-left: 0.2em;position: relative;}#sk-container-id-1 div.sk-item {position: relative;z-index: 1;}#sk-container-id-1 div.sk-parallel {display: flex;align-items: stretch;justify-content: center;background-color: white;position: relative;}#sk-container-id-1 div.sk-item::before, #sk-container-id-1 div.sk-parallel-item::before {content: \"\";position: absolute;border-left: 1px solid gray;box-sizing: border-box;top: 0;bottom: 0;left: 50%;z-index: -1;}#sk-container-id-1 div.sk-parallel-item {display: flex;flex-direction: column;z-index: 1;position: relative;background-color: white;}#sk-container-id-1 div.sk-parallel-item:first-child::after {align-self: flex-end;width: 50%;}#sk-container-id-1 div.sk-parallel-item:last-child::after {align-self: flex-start;width: 50%;}#sk-container-id-1 div.sk-parallel-item:only-child::after {width: 0;}#sk-container-id-1 div.sk-dashed-wrapped {border: 1px dashed gray;margin: 0 0.4em 0.5em 0.4em;box-sizing: border-box;padding-bottom: 0.4em;background-color: white;}#sk-container-id-1 div.sk-label label {font-family: monospace;font-weight: bold;display: inline-block;line-height: 1.2em;}#sk-container-id-1 div.sk-label-container {text-align: center;}#sk-container-id-1 div.sk-container {/* jupyter's `normalize.less` sets `[hidden] { display: none; }` but bootstrap.min.css set `[hidden] { display: none !important; }` so we also need the `!important` here to be able to override the default hidden behavior on the sphinx rendered scikit-learn.org. See: https://github.com/scikit-learn/scikit-learn/issues/21755 */display: inline-block !important;position: relative;}#sk-container-id-1 div.sk-text-repr-fallback {display: none;}</style><div id=\"sk-container-id-1\" class=\"sk-top-container\"><div class=\"sk-text-repr-fallback\"><pre>RandomForestClassifier(n_estimators=200)</pre><b>In a Jupyter environment, please rerun this cell to show the HTML representation or trust the notebook. <br />On GitHub, the HTML representation is unable to render, please try loading this page with nbviewer.org.</b></div><div class=\"sk-container\" hidden><div class=\"sk-item\"><div class=\"sk-estimator sk-toggleable\"><input class=\"sk-toggleable__control sk-hidden--visually\" id=\"sk-estimator-id-1\" type=\"checkbox\" checked><label for=\"sk-estimator-id-1\" class=\"sk-toggleable__label sk-toggleable__label-arrow\">RandomForestClassifier</label><div class=\"sk-toggleable__content\"><pre>RandomForestClassifier(n_estimators=200)</pre></div></div></div></div></div>"
      ],
      "text/plain": [
       "RandomForestClassifier(n_estimators=200)"
      ]
     },
     "execution_count": 48,
     "metadata": {},
     "output_type": "execute_result"
    }
   ],
   "source": [
    "clf.fit(X_train, y_train)"
   ]
  },
  {
   "cell_type": "markdown",
   "id": "7d6eda9b-25f5-4cbd-8ab1-462361f48a21",
   "metadata": {},
   "source": [
    "#### You can check the predictions on a few questions from the test set"
   ]
  },
  {
   "cell_type": "code",
   "execution_count": 49,
   "id": "9e134eb4-b3cd-425a-81dd-e2a96362c782",
   "metadata": {
    "height": 30
   },
   "outputs": [],
   "source": [
    "y_pred = clf.predict(X_test)"
   ]
  },
  {
   "cell_type": "code",
   "execution_count": 50,
   "id": "0805c099-1349-45a0-b1bc-47b64b15495a",
   "metadata": {
    "height": 47
   },
   "outputs": [
    {
     "name": "stdout",
     "output_type": "stream",
     "text": [
      "Accuracy: 0.6975\n"
     ]
    }
   ],
   "source": [
    "accuracy = accuracy_score(y_test, y_pred) # compute accuracy\n",
    "print(\"Accuracy:\", accuracy)"
   ]
  },
  {
   "cell_type": "markdown",
   "id": "6ae498a1-26ee-4111-90ba-b625804353de",
   "metadata": {},
   "source": [
    "#### Try out the classifier on some questions"
   ]
  },
  {
   "cell_type": "code",
   "execution_count": 51,
   "id": "1641137e-f556-443b-b67a-7468229ce7ee",
   "metadata": {
    "height": 251
   },
   "outputs": [
    {
     "ename": "ValueError",
     "evalue": "could not convert string to float: 'message'",
     "output_type": "error",
     "traceback": [
      "\u001b[0;31m---------------------------------------------------------------------------\u001b[0m",
      "\u001b[0;31mValueError\u001b[0m                                Traceback (most recent call last)",
      "Cell \u001b[0;32mIn[51], line 8\u001b[0m\n\u001b[1;32m      6\u001b[0m \u001b[38;5;66;03m# get the embedding of this question and predict its category\u001b[39;00m\n\u001b[1;32m      7\u001b[0m question_embedding \u001b[38;5;241m=\u001b[39m model\u001b[38;5;241m.\u001b[39mget_embeddings([question])[\u001b[38;5;241m0\u001b[39m]\u001b[38;5;241m.\u001b[39mvalues\n\u001b[0;32m----> 8\u001b[0m pred \u001b[38;5;241m=\u001b[39m \u001b[43mclf\u001b[49m\u001b[38;5;241;43m.\u001b[39;49m\u001b[43mpredict\u001b[49m\u001b[43m(\u001b[49m\u001b[43m[\u001b[49m\u001b[43mquestion_embedding\u001b[49m\u001b[43m]\u001b[49m\u001b[43m)\u001b[49m\n\u001b[1;32m     10\u001b[0m \u001b[38;5;28mprint\u001b[39m(\u001b[38;5;124mf\u001b[39m\u001b[38;5;124m\"\u001b[39m\u001b[38;5;124mFor question \u001b[39m\u001b[38;5;132;01m{\u001b[39;00mi\u001b[38;5;132;01m}\u001b[39;00m\u001b[38;5;124m, the prediction is `\u001b[39m\u001b[38;5;132;01m{\u001b[39;00mpred[\u001b[38;5;241m0\u001b[39m]\u001b[38;5;132;01m}\u001b[39;00m\u001b[38;5;124m`\u001b[39m\u001b[38;5;124m\"\u001b[39m)\n\u001b[1;32m     11\u001b[0m \u001b[38;5;28mprint\u001b[39m(\u001b[38;5;124mf\u001b[39m\u001b[38;5;124m\"\u001b[39m\u001b[38;5;124mThe actual label is `\u001b[39m\u001b[38;5;132;01m{\u001b[39;00mlabel\u001b[38;5;132;01m}\u001b[39;00m\u001b[38;5;124m`\u001b[39m\u001b[38;5;124m\"\u001b[39m)\n",
      "File \u001b[0;32m/usr/local/lib/python3.10/site-packages/sklearn/ensemble/_forest.py:820\u001b[0m, in \u001b[0;36mForestClassifier.predict\u001b[0;34m(self, X)\u001b[0m\n\u001b[1;32m    799\u001b[0m \u001b[38;5;28;01mdef\u001b[39;00m \u001b[38;5;21mpredict\u001b[39m(\u001b[38;5;28mself\u001b[39m, X):\n\u001b[1;32m    800\u001b[0m \u001b[38;5;250m    \u001b[39m\u001b[38;5;124;03m\"\"\"\u001b[39;00m\n\u001b[1;32m    801\u001b[0m \u001b[38;5;124;03m    Predict class for X.\u001b[39;00m\n\u001b[1;32m    802\u001b[0m \n\u001b[0;32m   (...)\u001b[0m\n\u001b[1;32m    818\u001b[0m \u001b[38;5;124;03m        The predicted classes.\u001b[39;00m\n\u001b[1;32m    819\u001b[0m \u001b[38;5;124;03m    \"\"\"\u001b[39;00m\n\u001b[0;32m--> 820\u001b[0m     proba \u001b[38;5;241m=\u001b[39m \u001b[38;5;28;43mself\u001b[39;49m\u001b[38;5;241;43m.\u001b[39;49m\u001b[43mpredict_proba\u001b[49m\u001b[43m(\u001b[49m\u001b[43mX\u001b[49m\u001b[43m)\u001b[49m\n\u001b[1;32m    822\u001b[0m     \u001b[38;5;28;01mif\u001b[39;00m \u001b[38;5;28mself\u001b[39m\u001b[38;5;241m.\u001b[39mn_outputs_ \u001b[38;5;241m==\u001b[39m \u001b[38;5;241m1\u001b[39m:\n\u001b[1;32m    823\u001b[0m         \u001b[38;5;28;01mreturn\u001b[39;00m \u001b[38;5;28mself\u001b[39m\u001b[38;5;241m.\u001b[39mclasses_\u001b[38;5;241m.\u001b[39mtake(np\u001b[38;5;241m.\u001b[39margmax(proba, axis\u001b[38;5;241m=\u001b[39m\u001b[38;5;241m1\u001b[39m), axis\u001b[38;5;241m=\u001b[39m\u001b[38;5;241m0\u001b[39m)\n",
      "File \u001b[0;32m/usr/local/lib/python3.10/site-packages/sklearn/ensemble/_forest.py:862\u001b[0m, in \u001b[0;36mForestClassifier.predict_proba\u001b[0;34m(self, X)\u001b[0m\n\u001b[1;32m    860\u001b[0m check_is_fitted(\u001b[38;5;28mself\u001b[39m)\n\u001b[1;32m    861\u001b[0m \u001b[38;5;66;03m# Check data\u001b[39;00m\n\u001b[0;32m--> 862\u001b[0m X \u001b[38;5;241m=\u001b[39m \u001b[38;5;28;43mself\u001b[39;49m\u001b[38;5;241;43m.\u001b[39;49m\u001b[43m_validate_X_predict\u001b[49m\u001b[43m(\u001b[49m\u001b[43mX\u001b[49m\u001b[43m)\u001b[49m\n\u001b[1;32m    864\u001b[0m \u001b[38;5;66;03m# Assign chunk of trees to jobs\u001b[39;00m\n\u001b[1;32m    865\u001b[0m n_jobs, _, _ \u001b[38;5;241m=\u001b[39m _partition_estimators(\u001b[38;5;28mself\u001b[39m\u001b[38;5;241m.\u001b[39mn_estimators, \u001b[38;5;28mself\u001b[39m\u001b[38;5;241m.\u001b[39mn_jobs)\n",
      "File \u001b[0;32m/usr/local/lib/python3.10/site-packages/sklearn/ensemble/_forest.py:602\u001b[0m, in \u001b[0;36mBaseForest._validate_X_predict\u001b[0;34m(self, X)\u001b[0m\n\u001b[1;32m    599\u001b[0m \u001b[38;5;250m\u001b[39m\u001b[38;5;124;03m\"\"\"\u001b[39;00m\n\u001b[1;32m    600\u001b[0m \u001b[38;5;124;03mValidate X whenever one tries to predict, apply, predict_proba.\"\"\"\u001b[39;00m\n\u001b[1;32m    601\u001b[0m check_is_fitted(\u001b[38;5;28mself\u001b[39m)\n\u001b[0;32m--> 602\u001b[0m X \u001b[38;5;241m=\u001b[39m \u001b[38;5;28;43mself\u001b[39;49m\u001b[38;5;241;43m.\u001b[39;49m\u001b[43m_validate_data\u001b[49m\u001b[43m(\u001b[49m\u001b[43mX\u001b[49m\u001b[43m,\u001b[49m\u001b[43m \u001b[49m\u001b[43mdtype\u001b[49m\u001b[38;5;241;43m=\u001b[39;49m\u001b[43mDTYPE\u001b[49m\u001b[43m,\u001b[49m\u001b[43m \u001b[49m\u001b[43maccept_sparse\u001b[49m\u001b[38;5;241;43m=\u001b[39;49m\u001b[38;5;124;43m\"\u001b[39;49m\u001b[38;5;124;43mcsr\u001b[39;49m\u001b[38;5;124;43m\"\u001b[39;49m\u001b[43m,\u001b[49m\u001b[43m \u001b[49m\u001b[43mreset\u001b[49m\u001b[38;5;241;43m=\u001b[39;49m\u001b[38;5;28;43;01mFalse\u001b[39;49;00m\u001b[43m)\u001b[49m\n\u001b[1;32m    603\u001b[0m \u001b[38;5;28;01mif\u001b[39;00m issparse(X) \u001b[38;5;129;01mand\u001b[39;00m (X\u001b[38;5;241m.\u001b[39mindices\u001b[38;5;241m.\u001b[39mdtype \u001b[38;5;241m!=\u001b[39m np\u001b[38;5;241m.\u001b[39mintc \u001b[38;5;129;01mor\u001b[39;00m X\u001b[38;5;241m.\u001b[39mindptr\u001b[38;5;241m.\u001b[39mdtype \u001b[38;5;241m!=\u001b[39m np\u001b[38;5;241m.\u001b[39mintc):\n\u001b[1;32m    604\u001b[0m     \u001b[38;5;28;01mraise\u001b[39;00m \u001b[38;5;167;01mValueError\u001b[39;00m(\u001b[38;5;124m\"\u001b[39m\u001b[38;5;124mNo support for np.int64 index based sparse matrices\u001b[39m\u001b[38;5;124m\"\u001b[39m)\n",
      "File \u001b[0;32m/usr/local/lib/python3.10/site-packages/sklearn/base.py:565\u001b[0m, in \u001b[0;36mBaseEstimator._validate_data\u001b[0;34m(self, X, y, reset, validate_separately, **check_params)\u001b[0m\n\u001b[1;32m    563\u001b[0m     \u001b[38;5;28;01mraise\u001b[39;00m \u001b[38;5;167;01mValueError\u001b[39;00m(\u001b[38;5;124m\"\u001b[39m\u001b[38;5;124mValidation should be done on X, y or both.\u001b[39m\u001b[38;5;124m\"\u001b[39m)\n\u001b[1;32m    564\u001b[0m \u001b[38;5;28;01melif\u001b[39;00m \u001b[38;5;129;01mnot\u001b[39;00m no_val_X \u001b[38;5;129;01mand\u001b[39;00m no_val_y:\n\u001b[0;32m--> 565\u001b[0m     X \u001b[38;5;241m=\u001b[39m \u001b[43mcheck_array\u001b[49m\u001b[43m(\u001b[49m\u001b[43mX\u001b[49m\u001b[43m,\u001b[49m\u001b[43m \u001b[49m\u001b[43minput_name\u001b[49m\u001b[38;5;241;43m=\u001b[39;49m\u001b[38;5;124;43m\"\u001b[39;49m\u001b[38;5;124;43mX\u001b[39;49m\u001b[38;5;124;43m\"\u001b[39;49m\u001b[43m,\u001b[49m\u001b[43m \u001b[49m\u001b[38;5;241;43m*\u001b[39;49m\u001b[38;5;241;43m*\u001b[39;49m\u001b[43mcheck_params\u001b[49m\u001b[43m)\u001b[49m\n\u001b[1;32m    566\u001b[0m     out \u001b[38;5;241m=\u001b[39m X\n\u001b[1;32m    567\u001b[0m \u001b[38;5;28;01melif\u001b[39;00m no_val_X \u001b[38;5;129;01mand\u001b[39;00m \u001b[38;5;129;01mnot\u001b[39;00m no_val_y:\n",
      "File \u001b[0;32m/usr/local/lib/python3.10/site-packages/sklearn/utils/validation.py:879\u001b[0m, in \u001b[0;36mcheck_array\u001b[0;34m(array, accept_sparse, accept_large_sparse, dtype, order, copy, force_all_finite, ensure_2d, allow_nd, ensure_min_samples, ensure_min_features, estimator, input_name)\u001b[0m\n\u001b[1;32m    877\u001b[0m         array \u001b[38;5;241m=\u001b[39m xp\u001b[38;5;241m.\u001b[39mastype(array, dtype, copy\u001b[38;5;241m=\u001b[39m\u001b[38;5;28;01mFalse\u001b[39;00m)\n\u001b[1;32m    878\u001b[0m     \u001b[38;5;28;01melse\u001b[39;00m:\n\u001b[0;32m--> 879\u001b[0m         array \u001b[38;5;241m=\u001b[39m \u001b[43m_asarray_with_order\u001b[49m\u001b[43m(\u001b[49m\u001b[43marray\u001b[49m\u001b[43m,\u001b[49m\u001b[43m \u001b[49m\u001b[43morder\u001b[49m\u001b[38;5;241;43m=\u001b[39;49m\u001b[43morder\u001b[49m\u001b[43m,\u001b[49m\u001b[43m \u001b[49m\u001b[43mdtype\u001b[49m\u001b[38;5;241;43m=\u001b[39;49m\u001b[43mdtype\u001b[49m\u001b[43m,\u001b[49m\u001b[43m \u001b[49m\u001b[43mxp\u001b[49m\u001b[38;5;241;43m=\u001b[39;49m\u001b[43mxp\u001b[49m\u001b[43m)\u001b[49m\n\u001b[1;32m    880\u001b[0m \u001b[38;5;28;01mexcept\u001b[39;00m ComplexWarning \u001b[38;5;28;01mas\u001b[39;00m complex_warning:\n\u001b[1;32m    881\u001b[0m     \u001b[38;5;28;01mraise\u001b[39;00m \u001b[38;5;167;01mValueError\u001b[39;00m(\n\u001b[1;32m    882\u001b[0m         \u001b[38;5;124m\"\u001b[39m\u001b[38;5;124mComplex data not supported\u001b[39m\u001b[38;5;130;01m\\n\u001b[39;00m\u001b[38;5;132;01m{}\u001b[39;00m\u001b[38;5;130;01m\\n\u001b[39;00m\u001b[38;5;124m\"\u001b[39m\u001b[38;5;241m.\u001b[39mformat(array)\n\u001b[1;32m    883\u001b[0m     ) \u001b[38;5;28;01mfrom\u001b[39;00m \u001b[38;5;21;01mcomplex_warning\u001b[39;00m\n",
      "File \u001b[0;32m/usr/local/lib/python3.10/site-packages/sklearn/utils/_array_api.py:185\u001b[0m, in \u001b[0;36m_asarray_with_order\u001b[0;34m(array, dtype, order, copy, xp)\u001b[0m\n\u001b[1;32m    182\u001b[0m     xp, _ \u001b[38;5;241m=\u001b[39m get_namespace(array)\n\u001b[1;32m    183\u001b[0m \u001b[38;5;28;01mif\u001b[39;00m xp\u001b[38;5;241m.\u001b[39m\u001b[38;5;18m__name__\u001b[39m \u001b[38;5;129;01min\u001b[39;00m {\u001b[38;5;124m\"\u001b[39m\u001b[38;5;124mnumpy\u001b[39m\u001b[38;5;124m\"\u001b[39m, \u001b[38;5;124m\"\u001b[39m\u001b[38;5;124mnumpy.array_api\u001b[39m\u001b[38;5;124m\"\u001b[39m}:\n\u001b[1;32m    184\u001b[0m     \u001b[38;5;66;03m# Use NumPy API to support order\u001b[39;00m\n\u001b[0;32m--> 185\u001b[0m     array \u001b[38;5;241m=\u001b[39m \u001b[43mnumpy\u001b[49m\u001b[38;5;241;43m.\u001b[39;49m\u001b[43masarray\u001b[49m\u001b[43m(\u001b[49m\u001b[43marray\u001b[49m\u001b[43m,\u001b[49m\u001b[43m \u001b[49m\u001b[43morder\u001b[49m\u001b[38;5;241;43m=\u001b[39;49m\u001b[43morder\u001b[49m\u001b[43m,\u001b[49m\u001b[43m \u001b[49m\u001b[43mdtype\u001b[49m\u001b[38;5;241;43m=\u001b[39;49m\u001b[43mdtype\u001b[49m\u001b[43m)\u001b[49m\n\u001b[1;32m    186\u001b[0m     \u001b[38;5;28;01mreturn\u001b[39;00m xp\u001b[38;5;241m.\u001b[39masarray(array, copy\u001b[38;5;241m=\u001b[39mcopy)\n\u001b[1;32m    187\u001b[0m \u001b[38;5;28;01melse\u001b[39;00m:\n",
      "\u001b[0;31mValueError\u001b[0m: could not convert string to float: 'message'"
     ]
    }
   ],
   "source": [
    "# choose a number between 0 and 1999\n",
    "i = 2\n",
    "label = so_df.loc[i,'category']\n",
    "question = so_df.loc[i,'input_text']\n",
    "\n",
    "# get the embedding of this question and predict its category\n",
    "question_embedding = model.get_embeddings([question])[0].values\n",
    "pred = clf.predict([question_embedding])\n",
    "\n",
    "print(f\"For question {i}, the prediction is `{pred[0]}`\")\n",
    "print(f\"The actual label is `{label}`\")\n",
    "print(\"The question text is:\")\n",
    "print(\"-\"*50)\n",
    "print(question)"
   ]
  },
  {
   "cell_type": "code",
   "execution_count": null,
   "id": "932aa937-9b26-4e5e-8242-001cc2794a75",
   "metadata": {
    "height": 30
   },
   "outputs": [],
   "source": []
  }
 ],
 "metadata": {
  "kernelspec": {
   "display_name": "Python 3 (ipykernel)",
   "language": "python",
   "name": "python3"
  },
  "language_info": {
   "codemirror_mode": {
    "name": "ipython",
    "version": 3
   },
   "file_extension": ".py",
   "mimetype": "text/x-python",
   "name": "python",
   "nbconvert_exporter": "python",
   "pygments_lexer": "ipython3",
   "version": "3.10.14"
  }
 },
 "nbformat": 4,
 "nbformat_minor": 5
}
